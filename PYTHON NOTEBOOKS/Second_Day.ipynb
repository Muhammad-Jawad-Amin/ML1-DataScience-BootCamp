{
 "cells": [
  {
   "cell_type": "markdown",
   "id": "76d0745e",
   "metadata": {},
   "source": [
    "# String"
   ]
  },
  {
   "cell_type": "markdown",
   "id": "348418b1",
   "metadata": {},
   "source": [
    "## Write a Python program to find the length of a string."
   ]
  },
  {
   "cell_type": "code",
   "execution_count": 1,
   "id": "1e72c293",
   "metadata": {},
   "outputs": [],
   "source": [
    "st = \"hello\"\n",
    "# Expected output: 5"
   ]
  },
  {
   "cell_type": "code",
   "execution_count": 2,
   "id": "dc93dcda",
   "metadata": {},
   "outputs": [
    {
     "name": "stdout",
     "output_type": "stream",
     "text": [
      "5\n"
     ]
    }
   ],
   "source": [
    "print(len(st))"
   ]
  },
  {
   "cell_type": "markdown",
   "id": "46e5cfc7",
   "metadata": {},
   "source": [
    "## Write a Python program to convert a string to lowercase."
   ]
  },
  {
   "cell_type": "code",
   "execution_count": 3,
   "id": "97ab9446",
   "metadata": {},
   "outputs": [],
   "source": [
    "st = \"HELLO\"\n",
    "# Expected output: \"hello\""
   ]
  },
  {
   "cell_type": "code",
   "execution_count": 4,
   "id": "0b416217",
   "metadata": {},
   "outputs": [
    {
     "name": "stdout",
     "output_type": "stream",
     "text": [
      "hello\n"
     ]
    }
   ],
   "source": [
    "print(st.lower())"
   ]
  },
  {
   "cell_type": "markdown",
   "id": "702fca27",
   "metadata": {},
   "source": [
    "## Write a Python program to convert a string to uppercase."
   ]
  },
  {
   "cell_type": "code",
   "execution_count": 5,
   "id": "e8fe65fa",
   "metadata": {},
   "outputs": [],
   "source": [
    "st = \"hello\"\n",
    "# Expected output: \"HELLO\""
   ]
  },
  {
   "cell_type": "code",
   "execution_count": 6,
   "id": "7b58c4c2",
   "metadata": {},
   "outputs": [
    {
     "name": "stdout",
     "output_type": "stream",
     "text": [
      "HELLO\n"
     ]
    }
   ],
   "source": [
    "print(st.upper())"
   ]
  },
  {
   "cell_type": "markdown",
   "id": "4eef2749",
   "metadata": {},
   "source": [
    "## Write a Python program to capitalize the first letter of each word in a string."
   ]
  },
  {
   "cell_type": "code",
   "execution_count": 7,
   "id": "5b1d075d",
   "metadata": {},
   "outputs": [],
   "source": [
    "st = \"hello world\"\n",
    "# Expected output: \"Hello World\""
   ]
  },
  {
   "cell_type": "code",
   "execution_count": 8,
   "id": "70f60147",
   "metadata": {},
   "outputs": [
    {
     "name": "stdout",
     "output_type": "stream",
     "text": [
      "Hello World\n"
     ]
    }
   ],
   "source": [
    "print(st.title())"
   ]
  },
  {
   "cell_type": "markdown",
   "id": "2fbb1427",
   "metadata": {},
   "source": [
    "## Write a Python program to split a string into a list of words."
   ]
  },
  {
   "cell_type": "code",
   "execution_count": 9,
   "id": "02eb33bf",
   "metadata": {},
   "outputs": [],
   "source": [
    "st = \"hello world\"\n",
    "# Expected output: [\"hello\", \"world\"]"
   ]
  },
  {
   "cell_type": "code",
   "execution_count": 10,
   "id": "355f8d3f",
   "metadata": {},
   "outputs": [
    {
     "name": "stdout",
     "output_type": "stream",
     "text": [
      "['hello', 'world']\n"
     ]
    }
   ],
   "source": [
    "print(st.split())"
   ]
  },
  {
   "cell_type": "markdown",
   "id": "89811dd9",
   "metadata": {},
   "source": [
    "## Write a Python program to join a list of words into a string."
   ]
  },
  {
   "cell_type": "code",
   "execution_count": 11,
   "id": "4bc4f90e",
   "metadata": {},
   "outputs": [],
   "source": [
    "words = [\"hello\", \"world\"]\n",
    "# Expected output: \"hello world\""
   ]
  },
  {
   "cell_type": "code",
   "execution_count": 12,
   "id": "6294d8d5",
   "metadata": {},
   "outputs": [
    {
     "name": "stdout",
     "output_type": "stream",
     "text": [
      "hello world\n"
     ]
    }
   ],
   "source": [
    "print(\" \".join(words))"
   ]
  },
  {
   "cell_type": "markdown",
   "id": "5fd7161c",
   "metadata": {},
   "source": [
    "## Write a Python program to remove all punctuation from a string."
   ]
  },
  {
   "cell_type": "code",
   "execution_count": 13,
   "id": "29fd70d8",
   "metadata": {},
   "outputs": [],
   "source": [
    "st = \"hello, world!\"\n",
    "# Expected output: \"hello world\""
   ]
  },
  {
   "cell_type": "code",
   "execution_count": 14,
   "id": "584a3256",
   "metadata": {},
   "outputs": [
    {
     "name": "stdout",
     "output_type": "stream",
     "text": [
      "hello world\n"
     ]
    }
   ],
   "source": [
    "import string\n",
    "punctuations = string.punctuation\n",
    "finalstr = \"\"\n",
    "for char in st:\n",
    "    if char not in punctuations:\n",
    "        finalstr += char\n",
    "\n",
    "print(finalstr)"
   ]
  },
  {
   "cell_type": "markdown",
   "id": "49ee58b8",
   "metadata": {},
   "source": [
    "## Write a Python program to remove all digits from a string."
   ]
  },
  {
   "cell_type": "code",
   "execution_count": 15,
   "id": "229ee889",
   "metadata": {},
   "outputs": [],
   "source": [
    "st = \"hello123\"\n",
    "# Expected output: \"hello\""
   ]
  },
  {
   "cell_type": "code",
   "execution_count": 16,
   "id": "c00c5204",
   "metadata": {},
   "outputs": [
    {
     "name": "stdout",
     "output_type": "stream",
     "text": [
      "hello\n"
     ]
    }
   ],
   "source": [
    "finalstr = \"\".join([char for char in st if not char.isdigit()])\n",
    "print(finalstr)"
   ]
  },
  {
   "cell_type": "markdown",
   "id": "775e502d",
   "metadata": {},
   "source": [
    "## Remove leading and trailing whitespace from a string"
   ]
  },
  {
   "cell_type": "code",
   "execution_count": 17,
   "id": "5d4d7dbe",
   "metadata": {},
   "outputs": [],
   "source": [
    "st = \"  hello  \"\n",
    "# Expected output: \"hello\""
   ]
  },
  {
   "cell_type": "code",
   "execution_count": 18,
   "id": "ef0e7e64",
   "metadata": {},
   "outputs": [
    {
     "name": "stdout",
     "output_type": "stream",
     "text": [
      "hello\n"
     ]
    }
   ],
   "source": [
    "print(st.strip())"
   ]
  },
  {
   "cell_type": "markdown",
   "id": "1093a327",
   "metadata": {},
   "source": [
    "## Join a list of words into a string"
   ]
  },
  {
   "cell_type": "code",
   "execution_count": 19,
   "id": "356db6b3",
   "metadata": {},
   "outputs": [],
   "source": [
    "words = [\"hello\", \"world\"]\n",
    "# Expected output: \"hello world\""
   ]
  },
  {
   "cell_type": "code",
   "execution_count": 20,
   "id": "959c8bcc",
   "metadata": {},
   "outputs": [
    {
     "name": "stdout",
     "output_type": "stream",
     "text": [
      "hello world\n"
     ]
    }
   ],
   "source": [
    "print(\" \".join(words))"
   ]
  },
  {
   "cell_type": "markdown",
   "id": "76dbe9cd",
   "metadata": {},
   "source": [
    "## Count the number of vowels in a string"
   ]
  },
  {
   "cell_type": "code",
   "execution_count": 21,
   "id": "5d978c20",
   "metadata": {},
   "outputs": [],
   "source": [
    "st = \"hello\"\n",
    "# Expected output: 2"
   ]
  },
  {
   "cell_type": "code",
   "execution_count": 22,
   "id": "d8aeff0d",
   "metadata": {},
   "outputs": [
    {
     "name": "stdout",
     "output_type": "stream",
     "text": [
      "2\n"
     ]
    }
   ],
   "source": [
    "vowelscount = 0 \n",
    "for char in st:\n",
    "    if char in ['a','e','i','o','u']:\n",
    "        vowelscount += 1\n",
    "\n",
    "print(vowelscount)"
   ]
  },
  {
   "cell_type": "markdown",
   "id": "2b081900",
   "metadata": {},
   "source": [
    "## Remove all non-alphanumeric characters from a string"
   ]
  },
  {
   "cell_type": "code",
   "execution_count": 23,
   "id": "b986c296",
   "metadata": {},
   "outputs": [],
   "source": [
    "st = \"hello@world#123\"\n",
    "# Expected output: \"helloworld123\""
   ]
  },
  {
   "cell_type": "code",
   "execution_count": 24,
   "id": "64f9f66b",
   "metadata": {},
   "outputs": [
    {
     "name": "stdout",
     "output_type": "stream",
     "text": [
      "helloworld123\n"
     ]
    }
   ],
   "source": [
    "finalstr = \"\".join([char for char in st if char.isalnum()])\n",
    "print(finalstr)"
   ]
  },
  {
   "cell_type": "markdown",
   "id": "0016f0e5",
   "metadata": {},
   "source": [
    "## Replace all spaces with underscores in a string"
   ]
  },
  {
   "cell_type": "code",
   "execution_count": 25,
   "id": "b456b240",
   "metadata": {},
   "outputs": [],
   "source": [
    "st = \"hello world\"\n",
    "# Expected output: \"hello_world\""
   ]
  },
  {
   "cell_type": "code",
   "execution_count": 26,
   "id": "d4190261",
   "metadata": {},
   "outputs": [
    {
     "name": "stdout",
     "output_type": "stream",
     "text": [
      "hello_world\n"
     ]
    }
   ],
   "source": [
    "print(st.replace(\" \", \"_\"))"
   ]
  },
  {
   "cell_type": "markdown",
   "id": "5521dc3c",
   "metadata": {},
   "source": [
    "## Remove duplicate characters from a string"
   ]
  },
  {
   "cell_type": "code",
   "execution_count": 27,
   "id": "861af485",
   "metadata": {},
   "outputs": [],
   "source": [
    "st = \"hello\"\n",
    "# Expected output: \"helo\""
   ]
  },
  {
   "cell_type": "code",
   "execution_count": 28,
   "id": "830c63f5",
   "metadata": {},
   "outputs": [
    {
     "name": "stdout",
     "output_type": "stream",
     "text": [
      "helo\n"
     ]
    }
   ],
   "source": [
    "finalstr = \"\"\n",
    "for char in st:\n",
    "    if char not in finalstr:\n",
    "        finalstr += char\n",
    "print(finalstr)"
   ]
  },
  {
   "cell_type": "markdown",
   "id": "ba539434",
   "metadata": {},
   "source": [
    "## Reverse the words in a string and return the result."
   ]
  },
  {
   "cell_type": "code",
   "execution_count": 29,
   "id": "d7352e8a",
   "metadata": {},
   "outputs": [],
   "source": [
    "st = \"hello world\"\n",
    "# Expected output: \"world hello\""
   ]
  },
  {
   "cell_type": "code",
   "execution_count": 30,
   "id": "f2e87b25",
   "metadata": {},
   "outputs": [
    {
     "name": "stdout",
     "output_type": "stream",
     "text": [
      "world hello\n"
     ]
    }
   ],
   "source": [
    "print(\" \".join(st.split()[::-1]))"
   ]
  },
  {
   "cell_type": "markdown",
   "id": "faf76562",
   "metadata": {},
   "source": [
    "# Dictionary"
   ]
  },
  {
   "cell_type": "markdown",
   "id": "f04cebc9",
   "metadata": {},
   "source": [
    "## Create a dictionary from two lists"
   ]
  },
  {
   "cell_type": "code",
   "execution_count": 31,
   "id": "e1ae5b43",
   "metadata": {},
   "outputs": [],
   "source": [
    "keys = [\"a\", \"b\", \"c\"]\n",
    "values = [1, 2, 3]\n",
    "# Expected output: {\"a\": 1, \"b\": 2, \"c\": 3}"
   ]
  },
  {
   "cell_type": "code",
   "execution_count": 32,
   "id": "f53d6904",
   "metadata": {},
   "outputs": [
    {
     "name": "stdout",
     "output_type": "stream",
     "text": [
      "{'a': 1, 'b': 2, 'c': 3}\n"
     ]
    }
   ],
   "source": [
    "finaldict = {}\n",
    "for i in range(len(keys)):\n",
    "    finaldict[keys[i]] = values[i]\n",
    "\n",
    "print(finaldict)"
   ]
  },
  {
   "cell_type": "markdown",
   "id": "3bd4498e",
   "metadata": {},
   "source": [
    "## Merge two dictionaries"
   ]
  },
  {
   "cell_type": "code",
   "execution_count": 33,
   "id": "b8109041",
   "metadata": {},
   "outputs": [],
   "source": [
    "dict1 = {\"a\": 1, \"b\": 2}\n",
    "dict2 = {\"c\": 3, \"d\": 4}\n",
    "# Expected output: {\"a\": 1, \"b\": 2, \"c\": 3, \"d\": 4}"
   ]
  },
  {
   "cell_type": "code",
   "execution_count": 34,
   "id": "b2ae95ea",
   "metadata": {},
   "outputs": [
    {
     "name": "stdout",
     "output_type": "stream",
     "text": [
      "{'a': 1, 'b': 2, 'c': 3, 'd': 4}\n"
     ]
    }
   ],
   "source": [
    "dict1.update(dict2)\n",
    "print(dict1)"
   ]
  },
  {
   "cell_type": "markdown",
   "id": "2d4d1621",
   "metadata": {},
   "source": [
    "## Access a value by key in a dictionary"
   ]
  },
  {
   "cell_type": "code",
   "execution_count": 35,
   "id": "10cbd600",
   "metadata": {},
   "outputs": [],
   "source": [
    "dict1 = {\"a\": 1, \"b\": 2, \"c\": 3}\n",
    "key = \"b\"\n",
    "# Expected output: 2"
   ]
  },
  {
   "cell_type": "code",
   "execution_count": 36,
   "id": "ff533204",
   "metadata": {},
   "outputs": [
    {
     "name": "stdout",
     "output_type": "stream",
     "text": [
      "2\n"
     ]
    }
   ],
   "source": [
    "print(dict1[key])"
   ]
  },
  {
   "cell_type": "markdown",
   "id": "dac163c4",
   "metadata": {},
   "source": [
    "## Update the value of a key in a dictionary"
   ]
  },
  {
   "cell_type": "code",
   "execution_count": 37,
   "id": "17dbaeda",
   "metadata": {},
   "outputs": [],
   "source": [
    "dict1 = {\"a\": 1, \"b\": 2}\n",
    "key = \"b\"\n",
    "new_value = 5\n",
    "# Expected output: {\"a\": 1, \"b\": 5}"
   ]
  },
  {
   "cell_type": "code",
   "execution_count": 38,
   "id": "f65e9dda",
   "metadata": {},
   "outputs": [
    {
     "name": "stdout",
     "output_type": "stream",
     "text": [
      "{'a': 1, 'b': 5}\n"
     ]
    }
   ],
   "source": [
    "dict1[key] = new_value\n",
    "print(dict1)"
   ]
  },
  {
   "cell_type": "markdown",
   "id": "e2fa72b7",
   "metadata": {},
   "source": [
    "## Check if a key exists in a dictionary"
   ]
  },
  {
   "cell_type": "code",
   "execution_count": 39,
   "id": "c2f814b4",
   "metadata": {},
   "outputs": [],
   "source": [
    "dict1 = {\"a\": 1, \"b\": 2}\n",
    "key = \"b\"\n",
    "# Expected output: True"
   ]
  },
  {
   "cell_type": "code",
   "execution_count": 40,
   "id": "df303bbc",
   "metadata": {},
   "outputs": [
    {
     "name": "stdout",
     "output_type": "stream",
     "text": [
      "True\n"
     ]
    }
   ],
   "source": [
    "if key in dict1:\n",
    "    print(True)\n",
    "else:\n",
    "    print(False)"
   ]
  },
  {
   "cell_type": "markdown",
   "id": "914b30ee",
   "metadata": {},
   "source": [
    "## Iterate over all keys in a dictionary"
   ]
  },
  {
   "cell_type": "code",
   "execution_count": 41,
   "id": "4431d335",
   "metadata": {},
   "outputs": [],
   "source": [
    "dict1 = {\"a\": 1, \"b\": 2, \"c\": 3}\n",
    "# Expected output: [\"a\", \"b\", \"c\"]"
   ]
  },
  {
   "cell_type": "code",
   "execution_count": 42,
   "id": "0184e093",
   "metadata": {},
   "outputs": [
    {
     "name": "stdout",
     "output_type": "stream",
     "text": [
      "a\n",
      "b\n",
      "c\n"
     ]
    }
   ],
   "source": [
    "for key in dict1:\n",
    "    print(key)"
   ]
  },
  {
   "cell_type": "markdown",
   "id": "3603c368",
   "metadata": {},
   "source": [
    "## Create a dictionary from a list of tuples"
   ]
  },
  {
   "cell_type": "code",
   "execution_count": 43,
   "id": "3d23ab6e",
   "metadata": {},
   "outputs": [],
   "source": [
    "tuples = [(\"a\", 1), (\"b\", 2), (\"c\", 3)]\n",
    "# Expected output: {\"a\": 1, \"b\": 2, \"c\": 3}"
   ]
  },
  {
   "cell_type": "code",
   "execution_count": 44,
   "id": "8ee1a457",
   "metadata": {},
   "outputs": [
    {
     "name": "stdout",
     "output_type": "stream",
     "text": [
      "{'a': 1, 'b': 2, 'c': 3}\n"
     ]
    }
   ],
   "source": [
    "dictfromlist = dict(tuples)\n",
    "print(dictfromlist)"
   ]
  },
  {
   "cell_type": "markdown",
   "id": "bb35d300",
   "metadata": {},
   "source": [
    "## Get a dictionary's keys as a list"
   ]
  },
  {
   "cell_type": "code",
   "execution_count": 45,
   "id": "3b7fdb8b",
   "metadata": {},
   "outputs": [],
   "source": [
    "dict1 = {\"a\": 1, \"b\": 2, \"c\": 3}\n",
    "# Expected output: [\"a\", \"b\", \"c\"]"
   ]
  },
  {
   "cell_type": "code",
   "execution_count": 46,
   "id": "c860d682",
   "metadata": {},
   "outputs": [
    {
     "name": "stdout",
     "output_type": "stream",
     "text": [
      "['a', 'b', 'c']\n"
     ]
    }
   ],
   "source": [
    "keys = [*dict1.keys()]\n",
    "print(keys)"
   ]
  },
  {
   "cell_type": "markdown",
   "id": "0ea6431c",
   "metadata": {},
   "source": [
    "## Get the minimum value from a dictionary"
   ]
  },
  {
   "cell_type": "code",
   "execution_count": 47,
   "id": "db67f88d",
   "metadata": {},
   "outputs": [],
   "source": [
    "dict1 = {\"a\": 1, \"b\": 5, \"c\": 3}\n",
    "# Expected output: 1"
   ]
  },
  {
   "cell_type": "code",
   "execution_count": 48,
   "id": "2dae3aaa",
   "metadata": {},
   "outputs": [
    {
     "name": "stdout",
     "output_type": "stream",
     "text": [
      "1\n"
     ]
    }
   ],
   "source": [
    "# minval = min(dict1.values())\n",
    "minval = dict1[\"a\"]\n",
    "for key in dict1:\n",
    "    if dict1[key] < minval:\n",
    "        minval = dict1[key]\n",
    "\n",
    "print(minval)"
   ]
  },
  {
   "cell_type": "markdown",
   "id": "055bcabb",
   "metadata": {},
   "source": [
    "## Write a Python program to find the factorial of a number."
   ]
  },
  {
   "cell_type": "code",
   "execution_count": 49,
   "id": "ba3f48c3",
   "metadata": {},
   "outputs": [],
   "source": [
    "n = 5\n",
    "expected_output = 120"
   ]
  },
  {
   "cell_type": "code",
   "execution_count": 50,
   "id": "15ef9922",
   "metadata": {},
   "outputs": [
    {
     "name": "stdout",
     "output_type": "stream",
     "text": [
      "120\n"
     ]
    }
   ],
   "source": [
    "fictorial = 1\n",
    "for i in range(1, n+1):\n",
    "    fictorial *= i\n",
    "\n",
    "print(fictorial)"
   ]
  },
  {
   "cell_type": "markdown",
   "id": "6d48e3aa",
   "metadata": {},
   "source": [
    "## Write a Python program to check if a string is a palindrome."
   ]
  },
  {
   "cell_type": "code",
   "execution_count": 51,
   "id": "ae58820c",
   "metadata": {},
   "outputs": [],
   "source": [
    "st = \"radar\"\n",
    "expected_output = True"
   ]
  },
  {
   "cell_type": "code",
   "execution_count": 52,
   "id": "043384c1",
   "metadata": {},
   "outputs": [
    {
     "name": "stdout",
     "output_type": "stream",
     "text": [
      "True\n"
     ]
    }
   ],
   "source": [
    "if st.lower() == st.lower()[::-1]:\n",
    "    print(True)\n",
    "else:\n",
    "    print(False)"
   ]
  },
  {
   "cell_type": "markdown",
   "id": "0301c135",
   "metadata": {},
   "source": [
    "## Write a Python program to calculate the sum of all even numbers in a list."
   ]
  },
  {
   "cell_type": "code",
   "execution_count": 53,
   "id": "81ba4aea",
   "metadata": {},
   "outputs": [],
   "source": [
    "lst = [1, 2, 3, 4, 5, 6]\n",
    "expected_output = 12"
   ]
  },
  {
   "cell_type": "code",
   "execution_count": 54,
   "id": "ffd2e7f9",
   "metadata": {},
   "outputs": [
    {
     "name": "stdout",
     "output_type": "stream",
     "text": [
      "12\n"
     ]
    }
   ],
   "source": [
    "evensum = 0\n",
    "for n in lst:\n",
    "    if n % 2 == 0:\n",
    "        evensum += n\n",
    "\n",
    "print(evensum)"
   ]
  },
  {
   "cell_type": "markdown",
   "id": "f34b75e8",
   "metadata": {},
   "source": [
    "## Write a Python program to find the difference between the maximum and minimum values in a list."
   ]
  },
  {
   "cell_type": "code",
   "execution_count": 55,
   "id": "7d2a5784",
   "metadata": {},
   "outputs": [],
   "source": [
    "lst = [10, 3, 5, 6, 2, 8]\n",
    "expected_output = 8"
   ]
  },
  {
   "cell_type": "code",
   "execution_count": 56,
   "id": "272ac580",
   "metadata": {},
   "outputs": [
    {
     "name": "stdout",
     "output_type": "stream",
     "text": [
      "8\n"
     ]
    }
   ],
   "source": [
    "difference = max(lst) - min(lst)\n",
    "print(difference)"
   ]
  },
  {
   "cell_type": "markdown",
   "id": "b6847f9b",
   "metadata": {},
   "source": [
    "## Write a Python program to check if a list is a palindrome."
   ]
  },
  {
   "cell_type": "code",
   "execution_count": 57,
   "id": "06bbc05b",
   "metadata": {},
   "outputs": [],
   "source": [
    "lst = [1, 2, 3, 2, 1]\n",
    "expected_output = True"
   ]
  },
  {
   "cell_type": "code",
   "execution_count": 58,
   "id": "d5b49627",
   "metadata": {},
   "outputs": [
    {
     "name": "stdout",
     "output_type": "stream",
     "text": [
      "True\n"
     ]
    }
   ],
   "source": [
    "newlst = lst[::-1]\n",
    "if lst == newlst:\n",
    "    print(True)\n",
    "else:\n",
    "    print(False)"
   ]
  },
  {
   "cell_type": "markdown",
   "id": "6859718a",
   "metadata": {},
   "source": [
    "## Write a Python program to check if a string is a valid email address."
   ]
  },
  {
   "cell_type": "code",
   "execution_count": 59,
   "id": "8e8d5d70",
   "metadata": {},
   "outputs": [],
   "source": [
    "st = \"example@example.com\"\n",
    "expected_output = True"
   ]
  },
  {
   "cell_type": "code",
   "execution_count": 60,
   "id": "a38b6f70",
   "metadata": {},
   "outputs": [
    {
     "name": "stdout",
     "output_type": "stream",
     "text": [
      "True\n"
     ]
    }
   ],
   "source": [
    "import re\n",
    "\n",
    "regex = r'[a-zA-Z0-9_.+-]+@[a-zA-Z0-9-]+\\.[a-zA-Z0-9-.]+'\n",
    "if re.fullmatch(regex, st):\n",
    "    print(True)\n",
    "else:\n",
    "    print(False)\n"
   ]
  },
  {
   "cell_type": "markdown",
   "id": "1665b849",
   "metadata": {},
   "source": [
    "## Create a dictionary from a list of strings where keys are the strings and values are the number of vowels in each string."
   ]
  },
  {
   "cell_type": "code",
   "execution_count": 61,
   "id": "f4023b2e",
   "metadata": {},
   "outputs": [],
   "source": [
    "words = [\"apple\", \"banana\", \"cherry\"]\n",
    "# Expected output: {\"apple\": 2, \"banana\": 3, \"cherry\": 2}"
   ]
  },
  {
   "cell_type": "code",
   "execution_count": 62,
   "id": "6df1324a",
   "metadata": {},
   "outputs": [],
   "source": [
    "def countvowels(strarg : str):\n",
    "    vowelcount = 0\n",
    "    for char in strarg:\n",
    "        if char in ['a','e','i','o','u']:\n",
    "            vowelcount += 1\n",
    "    return vowelcount"
   ]
  },
  {
   "cell_type": "code",
   "execution_count": 63,
   "id": "8a899fbd-38dc-4084-90ed-1ebf6ee95321",
   "metadata": {},
   "outputs": [
    {
     "name": "stdout",
     "output_type": "stream",
     "text": [
      "{2: 'apple', 3: 'banana', 1: 'cherry'}\n"
     ]
    }
   ],
   "source": [
    "finaldict = {}\n",
    "for strval in words:\n",
    "    finaldict[countvowels(strval)] = strval\n",
    "\n",
    "print(finaldict)"
   ]
  },
  {
   "cell_type": "markdown",
   "id": "a155ec9f",
   "metadata": {},
   "source": [
    "## Find the difference between two dictionaries and return a dictionary with keys that are only present in one of the dictionaries."
   ]
  },
  {
   "cell_type": "code",
   "execution_count": 64,
   "id": "a608f06b",
   "metadata": {},
   "outputs": [],
   "source": [
    "dict1 = {\"a\": 1, \"b\": 2, \"c\": 3}\n",
    "dict2 = {\"b\": 2, \"c\": 4, \"d\": 5}\n",
    "# Expected output: {\"a\": 1, \"d\": 5}"
   ]
  },
  {
   "cell_type": "code",
   "execution_count": 65,
   "id": "c6672736",
   "metadata": {},
   "outputs": [
    {
     "name": "stdout",
     "output_type": "stream",
     "text": [
      "{'a': 1, 'd': 5}\n"
     ]
    }
   ],
   "source": [
    "finaldict = {}\n",
    "\n",
    "for k1, k2 in zip(dict1.keys(), dict2.keys()):\n",
    "    if k1 not in dict2:\n",
    "        finaldict[k1] = dict1[k1]\n",
    "    elif k2 not in dict1:\n",
    "        finaldict[k2] = dict2[k2]\n",
    "\n",
    "print(finaldict)"
   ]
  },
  {
   "cell_type": "markdown",
   "id": "ea42bda2",
   "metadata": {},
   "source": [
    "## Description: Find the second largest element in a list.\n",
    "Input: lst = [1, 5, 3, 9, 2]\n",
    "#Output: 5"
   ]
  },
  {
   "cell_type": "code",
   "execution_count": 66,
   "id": "0fc944f3",
   "metadata": {},
   "outputs": [
    {
     "name": "stdout",
     "output_type": "stream",
     "text": [
      "5\n"
     ]
    }
   ],
   "source": [
    "lst = [1,5,3,9,2]\n",
    "print(sorted(lst)[-2])"
   ]
  },
  {
   "cell_type": "markdown",
   "id": "318cc0c9",
   "metadata": {},
   "source": [
    "## Generate All Subsets\n",
    "\n",
    "Description: Generate all subsets of a given set.\n",
    "Input: set = [1, 2]\n",
    "Output: [[], [1], [2], [1, 2]]"
   ]
  },
  {
   "cell_type": "code",
   "execution_count": 73,
   "id": "017a5773",
   "metadata": {},
   "outputs": [
    {
     "name": "stdout",
     "output_type": "stream",
     "text": [
      "[[], [1], [2], [1, 2], [3], [1, 3], [2, 3], [1, 2, 3]]\n"
     ]
    }
   ],
   "source": [
    "set = [1, 2, 3]\n",
    "output = [[]]\n",
    "\n",
    "for i in set:\n",
    "    new_subsets = []\n",
    "    for lst in output:\n",
    "        new_subsets.append(lst + [i])\n",
    "    output += new_subsets\n",
    "\n",
    "print(output)"
   ]
  },
  {
   "cell_type": "markdown",
   "id": "a5c4dea9",
   "metadata": {},
   "source": [
    "## Generate Prime Numbers Up to N\n",
    "\n",
    "Description: Generate a list of prime numbers up to a given number n.\n",
    "Input: n = 10\n",
    "Output: [2, 3, 5, 7]"
   ]
  },
  {
   "cell_type": "code",
   "execution_count": 67,
   "id": "efbf2f3f",
   "metadata": {},
   "outputs": [],
   "source": [
    "def isprime(num):\n",
    "    if num < 2:\n",
    "        return False\n",
    "    for i in range(2, int(num**0.5) + 1):\n",
    "        if num % i == 0 :\n",
    "            return False\n",
    "    return True "
   ]
  },
  {
   "cell_type": "code",
   "execution_count": 68,
   "id": "20e31670-8c2a-414b-80e5-0bae1da0d97c",
   "metadata": {},
   "outputs": [
    {
     "name": "stdout",
     "output_type": "stream",
     "text": [
      "[2, 3, 5, 7]\n"
     ]
    }
   ],
   "source": [
    "primenumbers = []\n",
    "n = 10\n",
    "for i in range(n):\n",
    "    if isprime(i):\n",
    "        primenumbers.append(i)\n",
    "        \n",
    "print(primenumbers)"
   ]
  },
  {
   "cell_type": "markdown",
   "id": "49c7507f",
   "metadata": {},
   "source": [
    "## Remove a Specific Element from a List\n",
    "\n",
    "Description: Remove all occurrences of a specific element from a list.\n",
    "Input: lst = [1, 2, 3, 2, 4], elem = 2\n",
    "Output: [1, 3, 4]"
   ]
  },
  {
   "cell_type": "code",
   "execution_count": 69,
   "id": "f82a8a2a",
   "metadata": {},
   "outputs": [
    {
     "name": "stdout",
     "output_type": "stream",
     "text": [
      "[1, 3, 4]\n"
     ]
    }
   ],
   "source": [
    "lst = [1,2,3,2,4]\n",
    "elem = 2\n",
    "while elem in lst:\n",
    "    lst.remove(2)\n",
    "\n",
    "print(lst)"
   ]
  },
  {
   "cell_type": "markdown",
   "id": "ce6ab368",
   "metadata": {},
   "source": [
    "## Find the Most Frequent Character in a String\n",
    "\n",
    "Description: Find the most frequent character in a string.\n",
    "Input: s = \"aabbbcccc\"\n"
   ]
  },
  {
   "cell_type": "code",
   "execution_count": 70,
   "id": "b58358eb",
   "metadata": {},
   "outputs": [
    {
     "name": "stdout",
     "output_type": "stream",
     "text": [
      "c\n"
     ]
    }
   ],
   "source": [
    "tempdict = {}\n",
    "s = \"aabbbcccc\"\n",
    "for char in s:\n",
    "    if char in tempdict:\n",
    "        tempdict[char] += 1\n",
    "    else:\n",
    "        tempdict[char] = 1\n",
    "\n",
    "print(max(tempdict, key= lambda k: tempdict[k]))"
   ]
  },
  {
   "cell_type": "markdown",
   "id": "7ebb4665",
   "metadata": {},
   "source": [
    "## Find All Pairs with a Given Sum\n",
    "\n",
    "Description: Find all pairs of elements in a list that sum to a given number.\n",
    "Input: lst = [1, 2, 3, 4, 5], sum = 5\n",
    "Output: [(1, 4), (2, 3)]"
   ]
  },
  {
   "cell_type": "code",
   "execution_count": 71,
   "id": "c53ca7f7",
   "metadata": {},
   "outputs": [
    {
     "name": "stdout",
     "output_type": "stream",
     "text": [
      "3 2\n",
      "4 1\n"
     ]
    }
   ],
   "source": [
    "lst = [1,2,3,4,5]\n",
    "sum = 5\n",
    "\n",
    "for i in range(len(lst)):\n",
    "    for j in range(i+1):\n",
    "        if lst[i] + lst[j] == sum:\n",
    "            print(lst[i] , lst[j])\n"
   ]
  },
  {
   "cell_type": "code",
   "execution_count": null,
   "id": "1821cdb1",
   "metadata": {},
   "outputs": [],
   "source": []
  }
 ],
 "metadata": {
  "kernelspec": {
   "display_name": "Python 3 (ipykernel)",
   "language": "python",
   "name": "python3"
  },
  "language_info": {
   "codemirror_mode": {
    "name": "ipython",
    "version": 3
   },
   "file_extension": ".py",
   "mimetype": "text/x-python",
   "name": "python",
   "nbconvert_exporter": "python",
   "pygments_lexer": "ipython3",
   "version": "3.11.7"
  }
 },
 "nbformat": 4,
 "nbformat_minor": 5
}

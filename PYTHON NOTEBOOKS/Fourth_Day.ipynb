{
 "cells": [
  {
   "cell_type": "markdown",
   "id": "6156693f",
   "metadata": {
    "id": "6156693f"
   },
   "source": [
    "## Question 1: Write a function to calculate the power of a number using recursion.\n",
    "Sample Input: Base = 3, Exponent = 4\n",
    "Expected Output: 81"
   ]
  },
  {
   "cell_type": "code",
   "execution_count": 2,
   "id": "d9f315ee",
   "metadata": {
    "colab": {
     "base_uri": "https://localhost:8080/"
    },
    "id": "d9f315ee",
    "outputId": "ef5f0a78-95bc-4c7e-c803-c80fe6344baa"
   },
   "outputs": [
    {
     "name": "stdout",
     "output_type": "stream",
     "text": [
      "Enter base: 3\n",
      "Enter exponent: 4\n",
      "81\n"
     ]
    }
   ],
   "source": [
    "def power(base, exponent):\n",
    "  if exponent == 0:\n",
    "    return 1\n",
    "  else:\n",
    "    return base * power(base, exponent - 1)\n",
    "\n",
    "base = int(input(\"Enter base: \"))\n",
    "exponent = int(input(\"Enter exponent: \"))\n",
    "print(power(base, exponent))"
   ]
  },
  {
   "cell_type": "markdown",
   "id": "c7081452",
   "metadata": {
    "id": "c7081452"
   },
   "source": [
    "## Question 2: Write a function to sort words in a given sentence in alphabetical order.\n",
    "Sample Input: \"hello world how are you\"\n",
    "Expected Output: \"are hello how world you\""
   ]
  },
  {
   "cell_type": "code",
   "execution_count": 10,
   "id": "91fde267",
   "metadata": {
    "colab": {
     "base_uri": "https://localhost:8080/"
    },
    "id": "91fde267",
    "outputId": "e424c843-87eb-4161-df7e-61e572bf6a39"
   },
   "outputs": [
    {
     "name": "stdout",
     "output_type": "stream",
     "text": [
      "Enter a sentence: hello world how are you\n",
      "are hello how world you\n"
     ]
    }
   ],
   "source": [
    "\n",
    "def sort_words(sentence):\n",
    "  words = sentence.split()\n",
    "  words.sort()\n",
    "  return \" \".join(words)\n",
    "\n",
    "sentence = input(\"Enter a sentence: \")\n",
    "print(sort_words(sentence))"
   ]
  },
  {
   "cell_type": "markdown",
   "id": "024ed145",
   "metadata": {
    "id": "024ed145"
   },
   "source": [
    "## Question 3: Write a function to find the first non-repeating character in a string.\n",
    "Sample Input: \"leetcode\"\n",
    "Expected Output: \"l\""
   ]
  },
  {
   "cell_type": "code",
   "execution_count": 9,
   "id": "2e9d20c6",
   "metadata": {
    "colab": {
     "base_uri": "https://localhost:8080/"
    },
    "id": "2e9d20c6",
    "outputId": "c5267686-d50f-4ba5-c4b4-8cf369aa0500"
   },
   "outputs": [
    {
     "name": "stdout",
     "output_type": "stream",
     "text": [
      "Please enter a string : leetcode\n",
      "l\n"
     ]
    }
   ],
   "source": [
    "def first_non_repeating_char(inp_string: str):\n",
    "  for char in inp_string:\n",
    "      if inp_string.count(char) == 1:\n",
    "          return char\n",
    "  return \"\"\n",
    "\n",
    "inp_string = input(\"Please enter a string : \")\n",
    "print(first_non_repeating_char(inp_string), sep=\",\")"
   ]
  },
  {
   "cell_type": "markdown",
   "id": "78b77edd",
   "metadata": {
    "id": "78b77edd"
   },
   "source": [
    "## Question 4: Given an array of integers nums sorted in ascending order, find the starting and ending position of a given target value.\n",
    "Sample Input: nums = [5, 7, 7, 8, 8, 10], target = 8\n",
    "Expected Output: [3, 4]"
   ]
  },
  {
   "cell_type": "code",
   "execution_count": 11,
   "id": "41090532",
   "metadata": {
    "colab": {
     "base_uri": "https://localhost:8080/"
    },
    "id": "41090532",
    "outputId": "029b2c1f-5f2c-4935-f26d-687afcccae39"
   },
   "outputs": [
    {
     "name": "stdout",
     "output_type": "stream",
     "text": [
      "[3, 4]\n"
     ]
    }
   ],
   "source": [
    "nums = [5, 7, 7, 8, 8, 10]\n",
    "target = 8\n",
    "output = [indx for indx, val in enumerate(nums) if val == target]\n",
    "print(output)"
   ]
  },
  {
   "cell_type": "markdown",
   "id": "c39f067e",
   "metadata": {
    "id": "c39f067e"
   },
   "source": [
    "## Question 5: Given a string s, find the longest palindromic substring in s.\n",
    "Sample Input: \"babad\"\n",
    "Expected Output: \"bab\" or \"aba\""
   ]
  },
  {
   "cell_type": "code",
   "execution_count": 36,
   "id": "d0855f08",
   "metadata": {
    "colab": {
     "base_uri": "https://localhost:8080/"
    },
    "id": "d0855f08",
    "outputId": "4b1ab454-d01d-4863-d60a-727f341e633b"
   },
   "outputs": [
    {
     "name": "stdout",
     "output_type": "stream",
     "text": [
      "Please enter a string to find longest palindromic : bababababab\n",
      "bababababab\n"
     ]
    }
   ],
   "source": [
    "def longestPalindrome(s):\n",
    "    longest = \"\"\n",
    "    for i in range(len(s)):\n",
    "        l, r = i, i\n",
    "        while l >= 0 and r < len(s) and s[l] == s[r]:\n",
    "            if r - l + 1 > len(longest):\n",
    "                longest = s[l : r + 1]\n",
    "            l -= 1\n",
    "            r += 1\n",
    "\n",
    "        l, r = i, i + 1\n",
    "        while l >= 0 and r < len(s) and s[l] == s[r]:\n",
    "            if r - l + 1 > len(longest):\n",
    "                longest = s[l : r + 1]\n",
    "            l -= 1\n",
    "            r += 1\n",
    "\n",
    "    return longest\n",
    "\n",
    "inp_string = input(\"Please enter a string to find longest palindromic : \")\n",
    "print(longestPalindrome(inp_string))"
   ]
  },
  {
   "cell_type": "markdown",
   "id": "93b1fb40",
   "metadata": {
    "id": "93b1fb40"
   },
   "source": [
    "## Question 6: Given an array of integers, 1 ≤ a[i] ≤ n (n = size of array), some elements appear twice and others appear once. Write a function to find all the elements that appear twice in the array without extra space and in O(n) runtime.\n",
    "Sample Input: [4, 3, 2, 7, 8, 2, 3, 1]\n",
    "Expected Output: [2, 3]"
   ]
  },
  {
   "cell_type": "code",
   "execution_count": 14,
   "id": "70769df8",
   "metadata": {
    "colab": {
     "base_uri": "https://localhost:8080/"
    },
    "id": "70769df8",
    "outputId": "c074d00a-45eb-4f35-af75-91859b6b962a"
   },
   "outputs": [
    {
     "name": "stdout",
     "output_type": "stream",
     "text": [
      "[3, 2]\n"
     ]
    }
   ],
   "source": [
    "array = [4, 3, 2, 7, 8, 2, 3, 1]\n",
    "twice_appearances = []\n",
    "\n",
    "for num in array:\n",
    "    if array.count(num) == 2 and num not in twice_appearances:\n",
    "        twice_appearances.append(num)\n",
    "\n",
    "print(twice_appearances)"
   ]
  },
  {
   "cell_type": "markdown",
   "id": "09772f61",
   "metadata": {
    "id": "09772f61"
   },
   "source": [
    "## Question 7: Create a class to represent a shopping cart and calculate the total cost.\n",
    "Input:\n",
    "cart = ShoppingCart()\n",
    "\n",
    "cart.add_item(\"Apple\", 2.5)\n",
    "\n",
    "cart.add_item(\"Banana\", 1.2)\n",
    "\n",
    "### Expected Output: Total: 3.7"
   ]
  },
  {
   "cell_type": "code",
   "execution_count": 15,
   "id": "bb2504e5",
   "metadata": {
    "colab": {
     "base_uri": "https://localhost:8080/"
    },
    "id": "bb2504e5",
    "outputId": "db85cf53-80a7-4e6d-d7e5-c0f5eec70206"
   },
   "outputs": [
    {
     "name": "stdout",
     "output_type": "stream",
     "text": [
      "Apple added to cart.\n",
      "Banana added to cart.\n",
      "Total: 3.7\n"
     ]
    }
   ],
   "source": [
    "class ShoppingCart:\n",
    "    def __init__(self):\n",
    "        self.items = {}\n",
    "\n",
    "    def add_item(self, name, price):\n",
    "        self.items[name] = price\n",
    "        print(f\"{name} added to cart.\")\n",
    "\n",
    "    def calculate_total(self):\n",
    "        total = 0\n",
    "        for price in self.items.values():\n",
    "            total += price\n",
    "        return total\n",
    "\n",
    "cart = ShoppingCart()\n",
    "cart.add_item(\"Apple\", 2.5)\n",
    "cart.add_item(\"Banana\", 1.2)\n",
    "print(\"Total:\", cart.calculate_total())"
   ]
  },
  {
   "cell_type": "markdown",
   "id": "51e2598c",
   "metadata": {
    "id": "51e2598c"
   },
   "source": [
    "## Question 8: Write a function to extract all phone numbers from a tuple of strings using regex.\n",
    "Input: (\"Call me at 123-456-7890\", \"Mobile: 987-654-3210\")\n",
    "\n",
    "Expected Output: ['123-456-7890', '987-654-3210']"
   ]
  },
  {
   "cell_type": "code",
   "execution_count": 20,
   "id": "e6a8fc77",
   "metadata": {
    "colab": {
     "base_uri": "https://localhost:8080/"
    },
    "id": "e6a8fc77",
    "outputId": "5ad16faf-451c-4d88-f2d5-a77017622dac"
   },
   "outputs": [
    {
     "name": "stdout",
     "output_type": "stream",
     "text": [
      "['123-456-7890', '987-654-3210']\n"
     ]
    }
   ],
   "source": [
    "import re\n",
    "\n",
    "def extract_phone_numbers(inp_tuple):\n",
    "  phone_numbers = []\n",
    "  for string in inp_tuple:\n",
    "    phone_numbers.extend(re.findall(r'\\d{3}-\\d{3}-\\d{4}', string))\n",
    "  return phone_numbers\n",
    "\n",
    "inp_tuple = (\"Call me at 123-456-7890\", \"Mobile: 987-654-3210\")\n",
    "print(extract_phone_numbers(inp_tuple))"
   ]
  },
  {
   "cell_type": "markdown",
   "id": "cf25c40a",
   "metadata": {
    "id": "cf25c40a"
   },
   "source": [
    "## Question 9: Write a function that returns a set of unique even numbers from a list.\n",
    "Input: [1, 2, 3, 4, 5, 6, 7, 8, 9, 10]\n",
    "Expected Output: {2, 4, 6, 8, 10}"
   ]
  },
  {
   "cell_type": "code",
   "execution_count": 22,
   "id": "9f4185db",
   "metadata": {
    "colab": {
     "base_uri": "https://localhost:8080/"
    },
    "id": "9f4185db",
    "outputId": "8a3ba429-ffe5-48f6-cdef-b9941e46d5a8"
   },
   "outputs": [
    {
     "name": "stdout",
     "output_type": "stream",
     "text": [
      "{2, 4, 6, 8, 10}\n"
     ]
    }
   ],
   "source": [
    "def unique_even_numbers(inp_list):\n",
    "  return {num for num in inp_list if num % 2 == 0}\n",
    "\n",
    "inp_list = [1, 2, 3, 4, 5, 6, 7, 8, 9, 10]\n",
    "print(unique_even_numbers(inp_list))"
   ]
  },
  {
   "cell_type": "markdown",
   "id": "052dfdf9",
   "metadata": {
    "id": "052dfdf9"
   },
   "source": [
    "## Question 10: Write a function that returns a set of unique characters found in a tuple of strings.\n",
    "Input: (\"hello\", \"world\")\n",
    "Expected Output: {'h', 'e', 'l', 'o', 'w', 'r', 'd'}"
   ]
  },
  {
   "cell_type": "code",
   "execution_count": 25,
   "id": "8e69753d",
   "metadata": {
    "colab": {
     "base_uri": "https://localhost:8080/"
    },
    "id": "8e69753d",
    "outputId": "e308339c-d2da-4ddf-822e-4596b710e502"
   },
   "outputs": [
    {
     "name": "stdout",
     "output_type": "stream",
     "text": [
      "{'r', 'w', 'l', 'd', 'h', 'e', 'o'}\n"
     ]
    }
   ],
   "source": [
    "def unique_characters(inp_tuple):\n",
    "  unique_chars = set()\n",
    "  for string in inp_tuple:\n",
    "    unique_chars.update(string)\n",
    "  return unique_chars\n",
    "\n",
    "inp_tuple = (\"hello\", \"world\")\n",
    "print(unique_characters(inp_tuple))"
   ]
  },
  {
   "cell_type": "markdown",
   "id": "af0da8df",
   "metadata": {
    "id": "af0da8df"
   },
   "source": [
    "## Question 11: Write a function to filter a dictionary by values above a certain threshold.\n",
    "Input: {'a': 10, 'b': 20, 'c': 5}, threshold = 10\n",
    "Expected Output: {'b': 20}"
   ]
  },
  {
   "cell_type": "code",
   "execution_count": 32,
   "id": "b3d961b3",
   "metadata": {
    "colab": {
     "base_uri": "https://localhost:8080/"
    },
    "id": "b3d961b3",
    "outputId": "5263858f-64a2-4393-de6b-f64470e4601e"
   },
   "outputs": [
    {
     "name": "stdout",
     "output_type": "stream",
     "text": [
      "{'b': 20}\n"
     ]
    }
   ],
   "source": [
    "def filter_dict_by_threshold(inp_dict, thresh):\n",
    "    return {key : value for key, value in inp_dict.items() if value > thresh}\n",
    "\n",
    "inp_dict = {'a': 10, 'b': 20, 'c': 5}\n",
    "thresh = 10\n",
    "filtered_dict = filter_dict_by_threshold(inp_dict, thresh)\n",
    "print(filtered_dict)\n"
   ]
  },
  {
   "cell_type": "markdown",
   "id": "9f0bbda1",
   "metadata": {
    "id": "9f0bbda1"
   },
   "source": [
    "## Question 12: Write a function to find all words in a string that start with a capital letter using regex.\n",
    "Input: \"Hello World. Python is great.\"\n",
    "Expected Output: ['Hello', 'World', 'Python']"
   ]
  },
  {
   "cell_type": "code",
   "execution_count": 33,
   "id": "OZ7OS5oym6LJ",
   "metadata": {
    "colab": {
     "base_uri": "https://localhost:8080/"
    },
    "id": "OZ7OS5oym6LJ",
    "outputId": "8d9f7fe5-da6f-48de-cee7-737739e9fa46"
   },
   "outputs": [
    {
     "name": "stdout",
     "output_type": "stream",
     "text": [
      "['Hello', 'World', 'Python']\n"
     ]
    }
   ],
   "source": [
    "def find_capital_words(inp_string):\n",
    "  return re.findall(r'\\b[A-Z]\\w+', inp_string)\n",
    "\n",
    "inp_string = \"Hello World. Python is great.\"\n",
    "print(find_capital_words(inp_string))"
   ]
  }
 ],
 "metadata": {
  "colab": {
   "provenance": []
  },
  "kernelspec": {
   "display_name": "Python 3 (ipykernel)",
   "language": "python",
   "name": "python3"
  },
  "language_info": {
   "codemirror_mode": {
    "name": "ipython",
    "version": 3
   },
   "file_extension": ".py",
   "mimetype": "text/x-python",
   "name": "python",
   "nbconvert_exporter": "python",
   "pygments_lexer": "ipython3",
   "version": "3.12.4"
  }
 },
 "nbformat": 4,
 "nbformat_minor": 5
}

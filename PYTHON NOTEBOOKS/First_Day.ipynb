{
 "cells": [
  {
   "cell_type": "markdown",
   "id": "6c1f3038",
   "metadata": {},
   "source": [
    "## Print the numbers from 1 to 5 separated by commas."
   ]
  },
  {
   "cell_type": "code",
   "execution_count": 29,
   "id": "c311d363",
   "metadata": {},
   "outputs": [
    {
     "name": "stdout",
     "output_type": "stream",
     "text": [
      "1,2,3,4,5\n"
     ]
    }
   ],
   "source": [
    "# 1st Approach  \n",
    "# for i in range(1,6):\n",
    "#     if i < 5:\n",
    "#         print(f\"{i}\", end=\",\")\n",
    "#     else:\n",
    "#         print(f\"{i}\")    \n",
    "\n",
    "# 2nd Approach\n",
    "print(*[i for i in range(1,6)], sep=\",\")"
   ]
  },
  {
   "cell_type": "markdown",
   "id": "16d87a82",
   "metadata": {},
   "source": [
    "## Print the elements of a list [1, 2, 3, 4, 5] each on a new line."
   ]
  },
  {
   "cell_type": "code",
   "execution_count": 30,
   "id": "4ffd1576",
   "metadata": {},
   "outputs": [
    {
     "name": "stdout",
     "output_type": "stream",
     "text": [
      "1\n",
      "2\n",
      "3\n",
      "4\n",
      "5\n"
     ]
    }
   ],
   "source": [
    "mylist = [1,2,3,4,5]\n",
    "\n",
    "# 1st Approach\n",
    "# for element in mylist:\n",
    "#     print(f\"{element}\")\n",
    "\n",
    "# 2nd Approach\n",
    "print(*mylist, sep=\"\\n\")"
   ]
  },
  {
   "cell_type": "markdown",
   "id": "9cd5f054",
   "metadata": {},
   "source": [
    "## Add an element to a list in Python? list = [11,1,2,3,4,4,12] elemet=5, index = 3"
   ]
  },
  {
   "cell_type": "code",
   "execution_count": 9,
   "id": "98f40338",
   "metadata": {},
   "outputs": [
    {
     "name": "stdout",
     "output_type": "stream",
     "text": [
      "Before List : [11, 1, 2, 3, 4, 4, 12]\n",
      "After List : [11, 1, 2, 5, 3, 4, 4, 12]\n"
     ]
    }
   ],
   "source": [
    "mylist = [11,1,2,3,4,4,12]\n",
    "print(f\"Before List : {mylist}\")\n",
    "mylist.insert(3,5)\n",
    "print(f\"After List : {mylist}\")"
   ]
  },
  {
   "cell_type": "markdown",
   "id": "ee59b64a",
   "metadata": {},
   "source": [
    "## Find the length of a list? li = [1,2]"
   ]
  },
  {
   "cell_type": "code",
   "execution_count": 13,
   "id": "637b4fd7",
   "metadata": {},
   "outputs": [
    {
     "name": "stdout",
     "output_type": "stream",
     "text": [
      "Length of the list is 2\n"
     ]
    }
   ],
   "source": [
    "mylist = [1,2]\n",
    "print(f\"Length of the list is {len(mylist)}\")"
   ]
  },
  {
   "cell_type": "markdown",
   "id": "0343b0c9",
   "metadata": {},
   "source": [
    " ## How do you concatenate two lists in Python? l1 = [1,2], l2 = [3,4]"
   ]
  },
  {
   "cell_type": "code",
   "execution_count": 14,
   "id": "359d305c",
   "metadata": {},
   "outputs": [
    {
     "name": "stdout",
     "output_type": "stream",
     "text": [
      "List concatenation using (+) : [1, 2, 3, 4]\n"
     ]
    }
   ],
   "source": [
    "list1 = [1, 2]\n",
    "list2 = [3, 4]\n",
    "\n",
    "print(f\"List concatenation using (+) : {list1 + list2}\")"
   ]
  },
  {
   "cell_type": "markdown",
   "id": "b9ccfe63",
   "metadata": {},
   "source": [
    "## Check if \"1\" an element is in a li = [1,2,3,5]?"
   ]
  },
  {
   "cell_type": "code",
   "execution_count": 12,
   "id": "1a257d91",
   "metadata": {},
   "outputs": [
    {
     "name": "stdout",
     "output_type": "stream",
     "text": [
      "1 is present in the list.\n"
     ]
    }
   ],
   "source": [
    "mylist = [1,2,3,5]\n",
    "\n",
    "if 1 in mylist:\n",
    "    print(\"1 is present in the list.\")\n",
    "else:\n",
    "    print(\"1 is not in the list.\")"
   ]
  },
  {
   "cell_type": "markdown",
   "id": "865369a1",
   "metadata": {},
   "source": [
    "## Replace 2 to 10 element in a li = [1,2,3,5]?"
   ]
  },
  {
   "cell_type": "code",
   "execution_count": 15,
   "id": "0edd7c44",
   "metadata": {},
   "outputs": [
    {
     "name": "stdout",
     "output_type": "stream",
     "text": [
      "Before List : [1, 2, 3, 4, 5]\n",
      "After List : [1, 10, 3, 4, 5]\n"
     ]
    }
   ],
   "source": [
    "mylist = [1,2,3,4,5]\n",
    "print(f\"Before List : {mylist}\")\n",
    "mylist[mylist.index(2)] = 10\n",
    "print(f\"After List : {mylist}\")"
   ]
  },
  {
   "cell_type": "markdown",
   "id": "32e2283b",
   "metadata": {},
   "source": [
    "## Sort a list in descending order? li = [1,2,5,4,3,2,1]"
   ]
  },
  {
   "cell_type": "code",
   "execution_count": 28,
   "id": "0f35a4a2",
   "metadata": {},
   "outputs": [
    {
     "name": "stdout",
     "output_type": "stream",
     "text": [
      "Before List : [1, 2, 5, 4, 3, 2, 1]\n",
      "After List : [5, 4, 3, 2, 2, 1, 1]\n"
     ]
    }
   ],
   "source": [
    "mylist = [1,2,5,4,3,2,1] \n",
    "print(f\"Before List : {mylist}\")\n",
    "\n",
    "# 1st Approach\n",
    "# mylist.sort(reverse = True)\n",
    "\n",
    "# 2nd Approach\n",
    "for i in range(len(mylist)):\n",
    "    for j in range(len(mylist)):\n",
    "        if mylist[i] > mylist[j]:\n",
    "            mylist[i] += mylist[j]\n",
    "            mylist[j] = mylist[i] - mylist[j]\n",
    "            mylist[i] = mylist[i] - mylist[j]    \n",
    "\n",
    "print(f\"After List : {mylist}\")"
   ]
  },
  {
   "cell_type": "markdown",
   "id": "b8a9e12e-447d-4ca2-9dbc-d6c39a6eb1e2",
   "metadata": {},
   "source": [
    "## remove duplicates from a list? li = [1,2,1,3,4,2,3]"
   ]
  },
  {
   "cell_type": "code",
   "execution_count": 25,
   "id": "1b2f2a5e",
   "metadata": {},
   "outputs": [
    {
     "name": "stdout",
     "output_type": "stream",
     "text": [
      "Before List : [1, 2, 1, 3, 4, 2, 3]\n",
      "After List : [1, 2, 3, 4]\n"
     ]
    }
   ],
   "source": [
    "mylist = [1,2,1,3,4,2,3]\n",
    "print(f\"Before List : {mylist}\")\n",
    "\n",
    "# 1st Appraoch\n",
    "# mylistset = set(mylist)\n",
    "# mylist = list(mylistset)\n",
    "\n",
    "# 2nd Approach\n",
    "templist = []\n",
    "for element in mylist:\n",
    "    if element not in templist:\n",
    "        templist.append(element)\n",
    "mylist = templist\n",
    "print(f\"After List : {mylist}\")\n",
    "\n"
   ]
  },
  {
   "cell_type": "code",
   "execution_count": 32,
   "id": "d8c0ec19",
   "metadata": {},
   "outputs": [],
   "source": [
    "mylist = [1,2,1,3,4,2,3]\n",
    "\n",
    "a, *_ , b = mylist"
   ]
  },
  {
   "cell_type": "code",
   "execution_count": null,
   "id": "c7753f40-7d26-48ea-8c0c-e393c3437710",
   "metadata": {},
   "outputs": [],
   "source": [
    "a,b == b,a"
   ]
  }
 ],
 "metadata": {
  "kernelspec": {
   "display_name": "Python 3 (ipykernel)",
   "language": "python",
   "name": "python3"
  },
  "language_info": {
   "codemirror_mode": {
    "name": "ipython",
    "version": 3
   },
   "file_extension": ".py",
   "mimetype": "text/x-python",
   "name": "python",
   "nbconvert_exporter": "python",
   "pygments_lexer": "ipython3",
   "version": "3.9.19"
  }
 },
 "nbformat": 4,
 "nbformat_minor": 5
}

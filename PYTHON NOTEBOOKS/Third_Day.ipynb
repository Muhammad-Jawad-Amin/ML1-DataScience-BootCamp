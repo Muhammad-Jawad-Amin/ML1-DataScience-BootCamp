{
 "cells": [
  {
   "cell_type": "markdown",
   "id": "53d35056",
   "metadata": {
    "id": "53d35056"
   },
   "source": [
    "# Question 1:\n",
    "## Write a program which will find all such numbers which are divisible by 7 but are not a multiple of 5, between 2000 and 3200 (both included).\n",
    "## The numbers obtained should be printed in a comma-separated sequence on a single line.\n",
    "Hints:\n",
    "Consider use range(#begin, #end) method\n",
    "\n"
   ]
  },
  {
   "cell_type": "code",
   "execution_count": 30,
   "id": "9887347e",
   "metadata": {
    "colab": {
     "base_uri": "https://localhost:8080/"
    },
    "id": "9887347e",
    "outputId": "70febfc2-e44a-47c0-f741-f789ad272700"
   },
   "outputs": [
    {
     "name": "stdout",
     "output_type": "stream",
     "text": [
      "2002,2009,2016,2023,2037,2044,2051,2058,2072,2079,2086,2093,2107,2114,2121,2128,2142,2149,2156,2163,2177,2184,2191,2198,2212,2219,2226,2233,2247,2254,2261,2268,2282,2289,2296,2303,2317,2324,2331,2338,2352,2359,2366,2373,2387,2394,2401,2408,2422,2429,2436,2443,2457,2464,2471,2478,2492,2499,2506,2513,2527,2534,2541,2548,2562,2569,2576,2583,2597,2604,2611,2618,2632,2639,2646,2653,2667,2674,2681,2688,2702,2709,2716,2723,2737,2744,2751,2758,2772,2779,2786,2793,2807,2814,2821,2828,2842,2849,2856,2863,2877,2884,2891,2898,2912,2919,2926,2933,2947,2954,2961,2968,2982,2989,2996,3003,3017,3024,3031,3038,3052,3059,3066,3073,3087,3094,3101,3108,3122,3129,3136,3143,3157,3164,3171,3178,3192,3199\n"
     ]
    }
   ],
   "source": [
    "factor_7 = []\n",
    "for num in range(2000, 3200+1):\n",
    "    if num % 7 == 0 and num % 5 != 0:\n",
    "        factor_7.append(num)\n",
    "\n",
    "print(*factor_7, sep=\",\")"
   ]
  },
  {
   "cell_type": "markdown",
   "id": "ad86162b",
   "metadata": {
    "id": "ad86162b"
   },
   "source": [
    "# Question 2:\n",
    "## Write a program which can compute the factorial of a given numbers.\n",
    "## The results should be printed in a comma-separated sequence on a single line.\n",
    "Suppose the following input is supplied to the program:\n",
    "8\n",
    "Then, the output should be:\n",
    "40320\n",
    "Hints:\n",
    "In case of input data being supplied to the question, it should be assumed to be a console input."
   ]
  },
  {
   "cell_type": "code",
   "execution_count": 31,
   "id": "af46ac0d",
   "metadata": {
    "colab": {
     "base_uri": "https://localhost:8080/"
    },
    "id": "af46ac0d",
    "outputId": "57959e7c-61f1-42a4-df62-c86789047dc4"
   },
   "outputs": [
    {
     "name": "stdout",
     "output_type": "stream",
     "text": [
      "Please enter the number whose factorial you want to find : 8\n",
      "40,320\n"
     ]
    }
   ],
   "source": [
    "number = int(input(\"Please enter the number whose factorial you want to find : \"))\n",
    "factorial = 1\n",
    "for num in range(1,number+1):\n",
    "    factorial = factorial * num\n",
    "\n",
    "print(f\"{factorial:,}\")"
   ]
  },
  {
   "cell_type": "markdown",
   "id": "0857bd6a",
   "metadata": {
    "id": "0857bd6a"
   },
   "source": [
    "# Question 3:\n",
    "## With a given integral number n, write a program to generate a dictionary that contains (i, i*i) such that is an integral number between 1 and n (both included). and then the program should print the dictionary.\n",
    "Suppose the following input is supplied to the program:\n",
    "8\n",
    "Then, the output should be:\n",
    "{1: 1, 2: 4, 3: 9, 4: 16, 5: 25, 6: 36, 7: 49, 8: 64}\n",
    "Hints:\n",
    "In case of input data being supplied to the question, it should be assumed to be a console input.\n",
    "Consider use dict()"
   ]
  },
  {
   "cell_type": "code",
   "execution_count": 1,
   "id": "29e8373f",
   "metadata": {
    "colab": {
     "base_uri": "https://localhost:8080/"
    },
    "id": "29e8373f",
    "outputId": "071e2007-03cf-482a-cd53-e95082b60ff9"
   },
   "outputs": [
    {
     "name": "stdin",
     "output_type": "stream",
     "text": [
      "Please enter the length of the dictionary :  8\n"
     ]
    },
    {
     "name": "stdout",
     "output_type": "stream",
     "text": [
      "{1: 1, 2: 4, 3: 9, 4: 16, 5: 25, 6: 36, 7: 49, 8: 64}\n"
     ]
    }
   ],
   "source": [
    "length = int(input(\"Please enter the length of the dictionary : \"))\n",
    "mydict = {}\n",
    "for num in range(1, length+1):\n",
    "    mydict[num] = num * num\n",
    "\n",
    "print(mydict)"
   ]
  },
  {
   "cell_type": "markdown",
   "id": "7e7630b2",
   "metadata": {
    "id": "7e7630b2"
   },
   "source": [
    "# Question 4:\n",
    "## Write a program which accepts a sequence of comma-separated numbers from console and generate a list and a tuple which contains every number.\n",
    "Suppose the following input is supplied to the program:\n",
    "34,67,55,33,12,98\n",
    "Then, the output should be:\n",
    "['34', '67', '55', '33', '12', '98']\n",
    "('34', '67', '55', '33', '12', '98')\n",
    "Hints:\n",
    "In case of input data being supplied to the question, it should be assumed to be a console input.\n",
    "tuple() method can convert list to tuple"
   ]
  },
  {
   "cell_type": "code",
   "execution_count": 33,
   "id": "eb015d4d",
   "metadata": {
    "colab": {
     "base_uri": "https://localhost:8080/"
    },
    "id": "eb015d4d",
    "outputId": "55291545-0c27-4a10-8545-0ad24fc7af96"
   },
   "outputs": [
    {
     "name": "stdout",
     "output_type": "stream",
     "text": [
      "Please provide a comma separated list : 34,67,55,33,12,98\n",
      "['34', '67', '55', '33', '12', '98'] ('34', '67', '55', '33', '12', '98')\n"
     ]
    }
   ],
   "source": [
    "com_sep_list = input(\"Please provide a comma separated list : \").strip()\n",
    "mylist = list()\n",
    "mytuple = tuple()\n",
    "\n",
    "mylist = com_sep_list.split(\",\")\n",
    "mytuple = tuple(mylist)\n",
    "\n",
    "print(mylist, mytuple)"
   ]
  },
  {
   "cell_type": "markdown",
   "id": "7a360a45-abee-4cb6-81dc-c23fbcf94c91",
   "metadata": {
    "id": "7a360a45-abee-4cb6-81dc-c23fbcf94c91"
   },
   "source": [
    "# Question 5:\n",
    "## Define a class which has at least two methods:\n",
    "getString: to get a string from console input\n",
    "\n",
    "printString: to print the string in upper case.\n",
    "\n",
    "Also please include simple test function to test the class methods.\n",
    "\n",
    "Hints:\n",
    "Use init method to construct some parameters"
   ]
  },
  {
   "cell_type": "code",
   "execution_count": 2,
   "id": "9428607f-5771-4986-9363-6faa26e10e2b",
   "metadata": {
    "colab": {
     "base_uri": "https://localhost:8080/"
    },
    "id": "9428607f-5771-4986-9363-6faa26e10e2b",
    "outputId": "3e0d29e6-b896-40b4-8dfa-7fd84965e5b6"
   },
   "outputs": [
    {
     "name": "stdin",
     "output_type": "stream",
     "text": [
      "Please enter a String of your choice :  Jawad\n"
     ]
    },
    {
     "name": "stdout",
     "output_type": "stream",
     "text": [
      "Jawad\n"
     ]
    },
    {
     "name": "stdin",
     "output_type": "stream",
     "text": [
      "Please enter a String of your choice :  Smai\n"
     ]
    },
    {
     "name": "stdout",
     "output_type": "stream",
     "text": [
      "Smai\n"
     ]
    }
   ],
   "source": [
    "class MyString:\n",
    "    def __init__(self):\n",
    "        self.mystring = \"\"\n",
    "\n",
    "    def getString(self):\n",
    "        self.mystring = input(\"Please enter a String of your choice : \")\n",
    "\n",
    "    def printString(self):\n",
    "        print(self.mystring)\n",
    "\n",
    "def test_MyString():\n",
    "    manipulator = MyString()\n",
    "    manipulator.getString()\n",
    "    manipulator.printString()\n",
    "\n",
    "test_MyString()\n",
    "myobj = MyString()\n",
    "myobj.getString()\n",
    "myobj.printString()"
   ]
  },
  {
   "cell_type": "markdown",
   "id": "d3b78800",
   "metadata": {
    "id": "d3b78800"
   },
   "source": [
    "# Question 6:\n",
    "## Write a program that calculates and prints the value according to the given formula:\n",
    "### Q = Square root of [(2 * C * D)/H]\n",
    "Following are the fixed values of C and H:\n",
    "C is 50. H is 30.\n",
    "D is the variable whose values should be input to your program in a comma-separated sequence.\n",
    "Example\n",
    "Let us assume the following comma separated input sequence is given to the program:\n",
    "100,150,180\n",
    "The output of the program should be:\n",
    "18,22,24\n",
    "Hints:\n",
    "If the output received is in decimal form, it should be rounded off to its nearest value (for example, if the output received is 26.0, it should be printed as 26)\n",
    "In case of input data being supplied to the question, it should be assumed to be a console input.\n",
    "\n"
   ]
  },
  {
   "cell_type": "code",
   "execution_count": 35,
   "id": "1a8b6040",
   "metadata": {
    "colab": {
     "base_uri": "https://localhost:8080/"
    },
    "id": "1a8b6040",
    "outputId": "a6f7bd04-e99b-43c3-fae9-485e17cee391"
   },
   "outputs": [
    {
     "name": "stdout",
     "output_type": "stream",
     "text": [
      "Please enter the comma separated values of variable D : 100,150,180\n",
      "18,22,24\n"
     ]
    }
   ],
   "source": [
    "str_values_d = input(\"Please enter the comma separated values of variable D : \").strip().split(\",\")\n",
    "int_values_d = [int(val) for val in str_values_d]\n",
    "c_val = 50\n",
    "h_val = 30\n",
    "results = []\n",
    "for d_val in int_values_d:\n",
    "  results.append(round(((2*c_val*d_val)/h_val) ** 0.5))\n",
    "\n",
    "print(*results, sep=\",\")"
   ]
  },
  {
   "cell_type": "markdown",
   "id": "b433b504",
   "metadata": {
    "id": "b433b504"
   },
   "source": [
    "# Question:\n",
    "## Write a program which takes 2 digits, X,Y as input and generates a 2-dimensional array. The element value in the i-th row and j-th column of the array should be i*j.\n",
    "### Note: i=0,1.., X-1; j=0,1,¡­Y-1.\n",
    "Example\n",
    "Suppose the following inputs are given to the program:\n",
    "3,5\n",
    "Then, the output of the program should be:\n",
    "[[0, 0, 0, 0, 0], [0, 1, 2, 3, 4], [0, 2, 4, 6, 8]]\n",
    "Hints:\n",
    "Note: In case of input data being supplied to the question, it should be assumed to be a console input in a comma-separated form."
   ]
  },
  {
   "cell_type": "code",
   "execution_count": 36,
   "id": "5239ebbf-60f9-49ce-a342-6d532b699700",
   "metadata": {
    "colab": {
     "base_uri": "https://localhost:8080/"
    },
    "id": "5239ebbf-60f9-49ce-a342-6d532b699700",
    "outputId": "02da382e-769f-4f18-934e-81ae9cb1675b"
   },
   "outputs": [
    {
     "name": "stdout",
     "output_type": "stream",
     "text": [
      "Please enter the value of the X : 5\n",
      "Please enter the value of the Y : 3\n",
      "[[0, 0, 0], [0, 1, 2], [0, 2, 4], [0, 3, 6], [0, 4, 8]]\n"
     ]
    }
   ],
   "source": [
    "digit_x = int(input(\"Please enter the value of the X : \"))\n",
    "digit_y = int(input(\"Please enter the value of the Y : \"))\n",
    "\n",
    "results = []\n",
    "for i in range(digit_x):\n",
    "  temp = []\n",
    "  for j in range(digit_y):\n",
    "    temp.append(i*j)\n",
    "  results.append(temp)\n",
    "\n",
    "print(results)"
   ]
  },
  {
   "cell_type": "markdown",
   "id": "632a27cc",
   "metadata": {
    "id": "632a27cc"
   },
   "source": [
    "# Question 8\n",
    "\n",
    "## Write a program that accepts a comma separated sequence of words as input and prints the words in a comma-separated sequence after sorting them alphabetically.\n",
    "Suppose the following input is supplied to the program:\n",
    "without,hello,bag,world\n",
    "Then, the output should be:\n",
    "bag,hello,without,world\n",
    "Hints:\n",
    "In case of input data being supplied to the question, it should be assumed to be a console input."
   ]
  },
  {
   "cell_type": "code",
   "execution_count": 37,
   "id": "23df592f",
   "metadata": {
    "colab": {
     "base_uri": "https://localhost:8080/"
    },
    "id": "23df592f",
    "outputId": "d735d09e-21e7-4455-cd86-b4f1cd78ee66"
   },
   "outputs": [
    {
     "name": "stdout",
     "output_type": "stream",
     "text": [
      "Please enter a sequence of words separated by commas : Happy,Birthday,To,You\n",
      "Birthday,Happy,To,You\n"
     ]
    }
   ],
   "source": [
    "words_seq = input(\"Please enter a sequence of words separated by commas : \").strip()\n",
    "words_list = words_seq.split(\",\")\n",
    "\n",
    "sorted_words_list = sorted(words_list)\n",
    "\n",
    "print(*sorted_words_list, sep=\",\")\n"
   ]
  },
  {
   "cell_type": "markdown",
   "id": "6fac0b75",
   "metadata": {
    "id": "6fac0b75"
   },
   "source": [
    "# Question 9:\n",
    "## Write a program which accepts a sequence of comma separated 4 digit binary numbers as its input and then check whether they are divisible by 5 or not. The numbers that are divisible by 5 are to be printed in a comma separated sequence.\n",
    "Example:\n",
    "0100,0011,1010,1001\n",
    "Then the output should be:\n",
    "1010\n",
    "Notes: Assume the data is input by console.\n",
    "Hints:\n",
    "In case of input data being supplied to the question, it should be assumed to be a console input."
   ]
  },
  {
   "cell_type": "code",
   "execution_count": 38,
   "id": "d43efabb",
   "metadata": {
    "colab": {
     "base_uri": "https://localhost:8080/"
    },
    "id": "d43efabb",
    "outputId": "5315bf86-a856-41d8-eecf-315b9db47afb"
   },
   "outputs": [
    {
     "name": "stdout",
     "output_type": "stream",
     "text": [
      "Please enter a comma separated 4-digit binary numbers squence : 0100,0011,1010,1001\n",
      "1010\n"
     ]
    }
   ],
   "source": [
    "def binary_to_decimal(binary_string: str):\n",
    "  number = 0\n",
    "  for indx, val in enumerate(binary_string):\n",
    "    number += int(val) * 2 ** ((len(binary_string)-1)-indx)\n",
    "  return number\n",
    "\n",
    "binary_seq = input(\"Please enter a comma separated 4-digit binary numbers squence : \").strip().split(\",\")\n",
    "results = []\n",
    "\n",
    "for binary_string in binary_seq:\n",
    "  if len(binary_string) == 4 and binary_to_decimal(binary_string) % 5 == 0:\n",
    "    results.append(binary_string)\n",
    "\n",
    "print(*results, sep=\",\")"
   ]
  },
  {
   "cell_type": "markdown",
   "id": "47eb46ec",
   "metadata": {
    "id": "47eb46ec"
   },
   "source": [
    "# Question 10:\n",
    "## Write a program, which will find all such numbers between 1000 and 3000 (both included) such that each digit of the number is an even number.\n",
    "The numbers obtained should be printed in a comma-separated sequence on a single line.\n",
    "Hints:\n",
    "In case of input data being supplied to the question, it should be assumed to be a console input."
   ]
  },
  {
   "cell_type": "code",
   "execution_count": 39,
   "id": "c2c576a4",
   "metadata": {
    "colab": {
     "base_uri": "https://localhost:8080/"
    },
    "id": "c2c576a4",
    "outputId": "714b6979-3155-4c1f-a2b2-4aa79c662984"
   },
   "outputs": [
    {
     "name": "stdout",
     "output_type": "stream",
     "text": [
      "2000,2002,2004,2006,2008,2020,2022,2024,2026,2028,2040,2042,2044,2046,2048,2060,2062,2064,2066,2068,2080,2082,2084,2086,2088,2200,2202,2204,2206,2208,2220,2222,2224,2226,2228,2240,2242,2244,2246,2248,2260,2262,2264,2266,2268,2280,2282,2284,2286,2288,2400,2402,2404,2406,2408,2420,2422,2424,2426,2428,2440,2442,2444,2446,2448,2460,2462,2464,2466,2468,2480,2482,2484,2486,2488,2600,2602,2604,2606,2608,2620,2622,2624,2626,2628,2640,2642,2644,2646,2648,2660,2662,2664,2666,2668,2680,2682,2684,2686,2688,2800,2802,2804,2806,2808,2820,2822,2824,2826,2828,2840,2842,2844,2846,2848,2860,2862,2864,2866,2868,2880,2882,2884,2886,2888\n"
     ]
    }
   ],
   "source": [
    "def all_digits_even(number: int):\n",
    "  number_string = str(number)\n",
    "  for i in number_string:\n",
    "    if int(i) % 2 != 0:\n",
    "      return False\n",
    "  return True\n",
    "\n",
    "results = []\n",
    "for number in range(1000, 3000+1):\n",
    "  if all_digits_even(number):\n",
    "    results.append(number)\n",
    "\n",
    "print(*results, sep=\",\")"
   ]
  },
  {
   "cell_type": "markdown",
   "id": "6d41875e",
   "metadata": {
    "id": "6d41875e"
   },
   "source": [
    "# Question 11:\n",
    "## Write a program that computes the value of a+aa+aaa+aaaa with a given digit as the value of a.\n",
    "Suppose the following input is supplied to the program:\n",
    "9\n",
    "Then, the output should be:\n",
    "11106\n",
    "Hints:\n",
    "In case of input data being supplied to the question, it should be assumed to be a console input.\n",
    "\n"
   ]
  },
  {
   "cell_type": "code",
   "execution_count": 40,
   "id": "9bbc32a6",
   "metadata": {
    "colab": {
     "base_uri": "https://localhost:8080/"
    },
    "id": "9bbc32a6",
    "outputId": "421096e8-dd20-4924-ffd1-9af1f557be65"
   },
   "outputs": [
    {
     "name": "stdout",
     "output_type": "stream",
     "text": [
      "Please enter a number : 9\n",
      "11106\n"
     ]
    }
   ],
   "source": [
    "number = int(input(\"Please enter a number : \"))\n",
    "\n",
    "num = str(number)\n",
    "result = 0\n",
    "for i in range(4):\n",
    "  result += int(num)\n",
    "  num += str(number)\n",
    "\n",
    "print(result)"
   ]
  },
  {
   "cell_type": "markdown",
   "id": "4400c068",
   "metadata": {
    "id": "4400c068"
   },
   "source": [
    "# Question 12:\n",
    "## A website requires the users to input username and password to register. Write a program to check the validity of password input by users.\n",
    "Following are the criteria for checking the password:\n",
    "\n",
    "At least 1 letter between [a-z]\n",
    "At least 1 number between [0-9]\n",
    "At least 1 letter between [A-Z]\n",
    "At least 1 character from [$#@]\n",
    "Minimum length of transaction password: 6\n",
    "Maximum length of transaction password: 12\n",
    "Your program should accept a sequence of comma separated passwords and will check them according to the above criteria. Passwords that match the criteria are to be printed, each separated by a comma.\n",
    "Example\n",
    "If the following passwords are given as input to the program:\n",
    "ABd1234@1,a F1#,2w3E*,2We3345\n",
    "Then, the output of the program should be:\n",
    "ABd1234@1\n",
    "\n",
    "Hints:\n",
    "In case of input data being supplied to the question, it should be assumed to be a console input."
   ]
  },
  {
   "cell_type": "code",
   "execution_count": 41,
   "id": "d52e6603",
   "metadata": {
    "colab": {
     "base_uri": "https://localhost:8080/"
    },
    "id": "d52e6603",
    "outputId": "d2905e04-fb1a-4135-9a44-d569ee50a1cc"
   },
   "outputs": [
    {
     "name": "stdout",
     "output_type": "stream",
     "text": [
      "Enter a sequence of comma-separated passwords: ABd1234@1,a F1#,2w3E*,2We3345\n",
      "ABd1234@1\n"
     ]
    }
   ],
   "source": [
    "import re\n",
    "\n",
    "def validate_password(password):\n",
    "    pattern = r\"^(?=.*[a-z])(?=.*[A-Z])(?=.*[0-9])(?=.*[$#@]).{6,12}$\"\n",
    "    if re.match(pattern, password):\n",
    "        return True\n",
    "    else:\n",
    "        return False\n",
    "\n",
    "input_passwords = input(\"Enter a sequence of comma-separated passwords: \")\n",
    "passwords = input_passwords.split(\",\")\n",
    "valid_passwords = [password for password in passwords if validate_password(password)]\n",
    "print(\",\".join(valid_passwords))\n"
   ]
  },
  {
   "cell_type": "markdown",
   "id": "62934c59",
   "metadata": {
    "id": "62934c59"
   },
   "source": [
    "# Question 13:\n",
    "## Define a class with a generator which can iterate the numbers, which are divisible by 7, between a given range 0 and n.\n",
    "Hints:\n",
    "Consider use yield"
   ]
  },
  {
   "cell_type": "code",
   "execution_count": 42,
   "id": "71c05363",
   "metadata": {
    "colab": {
     "base_uri": "https://localhost:8080/"
    },
    "id": "71c05363",
    "outputId": "5f6aef2d-69b6-4aed-de78-abe65dad1375"
   },
   "outputs": [
    {
     "name": "stdout",
     "output_type": "stream",
     "text": [
      "Please enter a number : 9\n",
      "0\n",
      "7\n"
     ]
    }
   ],
   "source": [
    "class DivisibleBySeven:\n",
    "    def __init__(self, n):\n",
    "        self.n = n\n",
    "\n",
    "    def __iter__(self):\n",
    "        for i in range(self.n + 1):\n",
    "            if i % 7 == 0:\n",
    "                yield i\n",
    "\n",
    "number = int(input(\"Please enter a number : \"))\n",
    "for i in DivisibleBySeven(number):\n",
    "    print(i)\n"
   ]
  },
  {
   "cell_type": "markdown",
   "id": "660a8a4e",
   "metadata": {
    "id": "660a8a4e"
   },
   "source": [
    "# Question 14:\n",
    "## Python has many built-in functions, and if you do not know how to use it, you can read document online or find some books. But Python has a built-in document function for every built-in functions.\n",
    "Please write a program to print some Python built-in functions documents, such as abs(), int(), raw_input()\n",
    "And add document for your own function\n",
    "Hints:\n",
    "The built-in document method is doc"
   ]
  },
  {
   "cell_type": "code",
   "execution_count": 43,
   "id": "7545987e",
   "metadata": {
    "colab": {
     "base_uri": "https://localhost:8080/"
    },
    "id": "7545987e",
    "outputId": "473150ea-9691-49b0-fc65-3d5759c1a2bc"
   },
   "outputs": [
    {
     "name": "stdout",
     "output_type": "stream",
     "text": [
      "Return the absolute value of the argument.\n",
      "int([x]) -> integer\n",
      "int(x, base=10) -> integer\n",
      "\n",
      "Convert a number or string to an integer, or return 0 if no arguments\n",
      "are given.  If x is a number, return x.__int__().  For floating point\n",
      "numbers, this truncates towards zero.\n",
      "\n",
      "If x is not a number or if base is given, then x must be a string,\n",
      "bytes, or bytearray instance representing an integer literal in the\n",
      "given base.  The literal can be preceded by '+' or '-' and be surrounded\n",
      "by whitespace.  The base defaults to 10.  Valid bases are 0 and 2-36.\n",
      "Base 0 means to interpret the base from the string as an integer literal.\n",
      ">>> int('0b100', base=0)\n",
      "4\n",
      "Forward raw_input to frontends\n",
      "\n",
      "        Raises\n",
      "        ------\n",
      "        StdinNotImplementedError if active frontend doesn't support stdin.\n",
      "        \n",
      "\n",
      "    This function adds two numbers.\n",
      "\n",
      "    Args:\n",
      "        x: The first number.\n",
      "        y: The second number.\n",
      "\n",
      "    Returns:\n",
      "        The sum of x and y.\n",
      "    \n"
     ]
    }
   ],
   "source": [
    "print(abs.__doc__)\n",
    "print(int.__doc__)\n",
    "print(input.__doc__)\n",
    "\n",
    "def my_function(x, y):\n",
    "    \"\"\"\n",
    "    This function adds two numbers.\n",
    "\n",
    "    Args:\n",
    "        x: The first number.\n",
    "        y: The second number.\n",
    "\n",
    "    Returns:\n",
    "        The sum of x and y.\n",
    "    \"\"\"\n",
    "    return x + y\n",
    "\n",
    "print(my_function.__doc__)\n"
   ]
  },
  {
   "cell_type": "markdown",
   "id": "a771a041",
   "metadata": {
    "id": "a771a041"
   },
   "source": [
    "# Question 15:\n",
    "## reverse this a = 123(type(a) will be int after reverse)"
   ]
  },
  {
   "cell_type": "code",
   "execution_count": 44,
   "id": "da79bea4",
   "metadata": {
    "colab": {
     "base_uri": "https://localhost:8080/"
    },
    "id": "da79bea4",
    "outputId": "9843ea95-9442-49e9-ad48-97845e5e5308"
   },
   "outputs": [
    {
     "name": "stdout",
     "output_type": "stream",
     "text": [
      "321 <class 'int'>\n"
     ]
    }
   ],
   "source": [
    "a = 123\n",
    "a_rev_str = str(a)[::-1]\n",
    "a_rev_int = int(a_rev_str)\n",
    "print(a_rev_int,type(a_rev_int))"
   ]
  },
  {
   "cell_type": "markdown",
   "id": "8f27c182",
   "metadata": {
    "id": "8f27c182"
   },
   "source": [
    "# Bonus Question\n",
    "\n",
    "## Extract dates from the following string:\n",
    "\n",
    "\"This is a test to find dates from res = \"my matic completion date is 12-10-2018, and my intermediate completion date is 12-23-2021\"\""
   ]
  },
  {
   "cell_type": "code",
   "execution_count": 45,
   "id": "53dddd37",
   "metadata": {
    "colab": {
     "base_uri": "https://localhost:8080/"
    },
    "id": "53dddd37",
    "outputId": "f8ce5b51-73c1-4977-f0ae-0d7195dcb559"
   },
   "outputs": [
    {
     "name": "stdout",
     "output_type": "stream",
     "text": [
      "['12-10-2018', '12-23-2021']\n"
     ]
    }
   ],
   "source": [
    "import re\n",
    "\n",
    "res = \"my matic completion date is 12-10-2018, and my intermediate completion date is 12-23-2021\"\n",
    "dates = re.findall(r\"\\b\\d{2}-\\d{2}-\\d{4}\\b\", res)\n",
    "print(dates)"
   ]
  }
 ],
 "metadata": {
  "colab": {
   "provenance": []
  },
  "kernelspec": {
   "display_name": "Data-Science",
   "language": "python",
   "name": "data-science"
  },
  "language_info": {
   "codemirror_mode": {
    "name": "ipython",
    "version": 3
   },
   "file_extension": ".py",
   "mimetype": "text/x-python",
   "name": "python",
   "nbconvert_exporter": "python",
   "pygments_lexer": "ipython3",
   "version": "3.12.4"
  }
 },
 "nbformat": 4,
 "nbformat_minor": 5
}
